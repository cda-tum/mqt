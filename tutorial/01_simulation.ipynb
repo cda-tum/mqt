{
 "cells": [
  {
   "cell_type": "markdown",
   "id": "651e021f",
   "metadata": {},
   "source": [
    "# Classical Simulation of Quantum Circuits\n",
    "\n",
    "Performing a quantum computation (commonly described as a quantum circuit) entails evolving an initial quantum state by applying a sequence of operations (also called gates) and measuring the resulting system.\n",
    "Eventually, the goal should obviously be to do that on a real device.\n",
    "However, there are several important reasons for simulating the corresponding computations on a classical machine, particularly in the early stages of the design:\n",
    "As long as no suitable devices are available (e.g., in terms of scale, feasible computation depth, or accuracy), classical simulations of quantum circuits still allow one to explore and test quantum applications, even if only on a limited scale.\n",
    "However, also with further progress in the capabilities of the hardware platforms, classical simulation will remain an essential part of the quantum computing design process, since it additionally allows access to _all_ amplitudes of a resulting quantum state in contrast to a real device that only probabilistically returns measurement results.\n",
    "Moreover, classical simulation provides means to study quantum error correction as well as a baseline to estimate the advantage of quantum computers over classical computers.\n",
    "\n",
    "The classical simulation of quantum circuits is commonly conducted by performing consecutive matrix-vector multiplication, which many simulators realize by storing a dense representation of the complete state vector in memory and evolving it correspondingly or by relying on tensor network methods.\n",
    "This approach quickly becomes intractable due to the exponential growth of the quantum state with respect to the number of qubits---quickly rendering such simulations infeasible even on supercomputer clusters.\n",
    "Simulation methodologies based on decision diagrams are a promising complementary approach that frequently allows reducing the required memory by exploiting redundancies in the simulated quantum state.\n",
    "\n",
    "The _MQT_ offers the classical quantum circuit simulator _DDSIM_ that can be used to perform various quantum circuit simulation tasks based on using decision diagrams as a data structure.\n",
    "This includes strong and weak simulation, approximation techniques, noise-aware simulation, hybrid Schrödinger-Feynman techniques, support for dynamic circuits, the computation of expectation values, the simulation of mixed-dimensional systems, and more."
   ]
  },
  {
   "cell_type": "markdown",
   "id": "4b39980648e9f5f",
   "metadata": {},
   "source": [
    "In the following, we will use IBM's Qiskit to define quantum circuits and then simulate them using the MQT DDSIM simulator and IBM's Aer simulator."
   ]
  },
  {
   "cell_type": "markdown",
   "id": "9b59f4c740ac179b",
   "metadata": {},
   "source": [
    "## Simulating Simple Quantum Gates"
   ]
  },
  {
   "cell_type": "code",
   "execution_count": null,
   "id": "1288b2ddbc489272",
   "metadata": {
    "ExecuteTime": {
     "end_time": "2024-11-17T13:50:57.994004Z",
     "start_time": "2024-11-17T13:50:57.965841Z"
    }
   },
   "outputs": [],
   "source": [
    "from qiskit import QuantumCircuit\n",
    "\n",
    "circ = QuantumCircuit(1)\n",
    "circ.x(0)\n",
    "circ.draw(output=\"mpl\")"
   ]
  },
  {
   "cell_type": "code",
   "execution_count": null,
   "id": "fc298d251a918e20",
   "metadata": {
    "ExecuteTime": {
     "end_time": "2024-11-17T13:49:06.249107Z",
     "start_time": "2024-11-17T13:49:06.223707Z"
    }
   },
   "outputs": [],
   "source": [
    "from mqt.ddsim import DDSIMProvider\n",
    "from qiskit.visualization import plot_histogram\n",
    "\n",
    "provider = DDSIMProvider()\n",
    "backend = provider.get_backend(\"qasm_simulator\")\n",
    "result = backend.run(circ, shots=10000).result()\n",
    "plot_histogram(result.get_counts())"
   ]
  },
  {
   "cell_type": "markdown",
   "id": "9aef75ce51742995",
   "metadata": {},
   "source": [
    "## Simulating a CNOT gate"
   ]
  },
  {
   "cell_type": "code",
   "execution_count": null,
   "id": "4fbe7cf9c74a27d8",
   "metadata": {},
   "outputs": [],
   "source": [
    "circ = QuantumCircuit(2)\n",
    "circ.x(0)\n",
    "circ.cx(0,1)\n",
    "circ.measure_all()\n",
    "circ.draw(output=\"mpl\")"
   ]
  },
  {
   "cell_type": "code",
   "execution_count": null,
   "id": "661a617c27b59b9c",
   "metadata": {},
   "outputs": [],
   "source": [
    "result = backend.run(circ, shots=10000).result()\n",
    "plot_histogram(result.get_counts())"
   ]
  },
  {
   "cell_type": "markdown",
   "id": "300c3e1dfc10e615",
   "metadata": {},
   "source": [
    "## Simulating a Hadamard Gate and a Bell State"
   ]
  },
  {
   "cell_type": "code",
   "execution_count": null,
   "id": "48a41bee8b98dbde",
   "metadata": {},
   "outputs": [],
   "source": [
    "circ = QuantumCircuit(2)\n",
    "circ.h(0)\n",
    "circ.draw(output=\"mpl\")"
   ]
  },
  {
   "cell_type": "code",
   "execution_count": null,
   "id": "683d3ea0feb4b12f",
   "metadata": {},
   "outputs": [],
   "source": [
    "result = backend.run(circ, shots=10000).result()\n",
    "plot_histogram(result.get_counts())"
   ]
  },
  {
   "cell_type": "code",
   "execution_count": null,
   "id": "adcbbaa1bb3706c6",
   "metadata": {},
   "outputs": [],
   "source": [
    "circ.cx(0,1)\n",
    "circ.measure_all()\n",
    "circ.draw(output=\"mpl\")"
   ]
  },
  {
   "cell_type": "code",
   "execution_count": null,
   "id": "c5a42b0bf1b4b5e7",
   "metadata": {},
   "outputs": [],
   "source": [
    "result = backend.run(circ, shots=10000).result()\n",
    "plot_histogram(result.get_counts())"
   ]
  },
  {
   "cell_type": "markdown",
   "id": "600707394906949",
   "metadata": {},
   "source": [
    "## Simulating a GHZ State"
   ]
  },
  {
   "cell_type": "code",
   "execution_count": null,
   "id": "10bedb56",
   "metadata": {
    "tags": [
     "remove-output"
    ]
   },
   "outputs": [],
   "source": [
    "circ = QuantumCircuit(3)\n",
    "circ.h(2)\n",
    "circ.cx(2, 1)\n",
    "circ.cx(1, 0)\n",
    "circ.measure_all()\n",
    "circ.draw(output=\"mpl\")"
   ]
  },
  {
   "cell_type": "code",
   "execution_count": null,
   "id": "c36e6fe1",
   "metadata": {},
   "outputs": [],
   "source": [
    "result = backend.run(circ, shots=10000).result()\n",
    "plot_histogram(result.get_counts())"
   ]
  },
  {
   "cell_type": "markdown",
   "id": "7f6a30e1ef43463a",
   "metadata": {},
   "source": [
    "# MQT Bench"
   ]
  },
  {
   "cell_type": "code",
   "execution_count": null,
   "id": "1cafaa6c55dac17",
   "metadata": {},
   "outputs": [],
   "source": [
    "from mqt.bench import get_benchmark\n",
    "circ = get_benchmark(benchmark_name=\"ghz\", level=\"alg\", circuit_size=3)\n",
    "circ.draw(output=\"mpl\")"
   ]
  },
  {
   "cell_type": "markdown",
   "id": "f1b436dd1c58cabe",
   "metadata": {},
   "source": [
    "## Select a 5 qubit Quantum Phase Estimation (QPE) circuit and simulate it using DDSIM.\n",
    "\n",
    "MQT Bench GitHub: https://github.com/cda-tum/mqt-bench\n",
    "\n",
    "Documentation: https://mqt.readthedocs.io/projects/bench/en/latest/Benchmark_selection.html"
   ]
  },
  {
   "cell_type": "code",
   "execution_count": null,
   "id": "489bf59419d781a6",
   "metadata": {},
   "outputs": [],
   "source": [
    "from mqt.bench import get_benchmark\n",
    "circ = get_benchmark(benchmark_name=\"qpeinexact\", level=\"alg\", circuit_size=5)\n",
    "circ.draw(output=\"mpl\")\n",
    "\n",
    "result = backend.run(circ, shots=10000).result()\n",
    "plot_histogram(result.get_counts())"
   ]
  },
  {
   "cell_type": "markdown",
   "id": "59d83b98e9c51d65",
   "metadata": {},
   "source": [
    "## Evaluating the Runtime for a regular Simulator"
   ]
  },
  {
   "cell_type": "code",
   "execution_count": null,
   "id": "68e8e8d7ffa98211",
   "metadata": {},
   "outputs": [],
   "source": [
    "from qiskit_aer import AerProvider, AerSimulator\n",
    "backend = AerSimulator(method=\"statevector\")\n",
    "runtimes = []\n",
    "value_range = range(10, 30, 2)\n",
    "for i in value_range:\n",
    "    circ = get_benchmark(benchmark_name=\"ghz\", level=\"alg\", circuit_size=i)\n",
    "    result = backend.run(circ, shots=10000).result()\n",
    "    runtimes.append(result.time_taken)\n",
    "    print(f\"GHZ-{i}: {result.time_taken}\")"
   ]
  },
  {
   "cell_type": "code",
   "execution_count": null,
   "id": "9fee1dce7b8b63c7",
   "metadata": {},
   "outputs": [],
   "source": [
    "import matplotlib.pyplot as plt\n",
    "plt.xlabel(\"Circuit Size\")\n",
    "plt.ylabel(\"Runtime (s)\")\n",
    "plt.plot(value_range, runtimes)"
   ]
  },
  {
   "cell_type": "markdown",
   "id": "699b5d23c22f9c38",
   "metadata": {},
   "source": [
    "## Evaluating the Runtime for the DDSim Simulator"
   ]
  },
  {
   "cell_type": "code",
   "execution_count": null,
   "id": "e4652735f1b5df1f",
   "metadata": {},
   "outputs": [],
   "source": [
    "backend = provider.get_backend(\"qasm_simulator\")\n",
    "runtimes_ddsim = []\n",
    "for i in value_range:\n",
    "    circ = get_benchmark(benchmark_name=\"ghz\", level=\"alg\", circuit_size=i)\n",
    "    result = backend.run(circ, shots=10000).result()\n",
    "    runtimes_ddsim.append(result.time_taken)\n",
    "    print(f\"GHZ-{i}: {result.time_taken}\")\n",
    "plt.xlabel(\"Circuit Size\")\n",
    "plt.ylabel(\"Runtime (s)\")\n",
    "plt.plot(runtimes_ddsim)"
   ]
  },
  {
   "cell_type": "markdown",
   "id": "46f3ce9eda8ef571",
   "metadata": {},
   "source": [
    "## Direct Comparison"
   ]
  },
  {
   "cell_type": "code",
   "execution_count": null,
   "id": "b6929b806e7131da",
   "metadata": {},
   "outputs": [],
   "source": [
    "plt.xlabel(\"Circuit Size\")\n",
    "plt.ylabel(\"Runtime (s)\")\n",
    "plt.title(\"Simulation Runtimes\")\n",
    "plt.plot(value_range, runtimes, label=\"Aer\")\n",
    "plt.plot(value_range, runtimes_ddsim, label=\"DDSim\")\n",
    "plt.legend()"
   ]
  },
  {
   "cell_type": "markdown",
   "id": "bbb23072-bed7-4249-9e5e-30eb9a93ba0c",
   "metadata": {},
   "source": [
    "## Inspiration for further tasks:\n",
    "\n",
    "- Choose different algorithms from MQT Bench\n",
    "- Use other Qiskit Aer Simulation Methods (see https://qiskit.github.io/qiskit-aer/stubs/qiskit_aer.AerSimulator.html)\n",
    "- Use other MQT DDSim simulation methods (see https://mqt.readthedocs.io/projects/ddsim/en/latest/Simulators.html)"
   ]
  }
 ],
 "metadata": {
  "file_format": "mystnb",
  "kernelspec": {
   "display_name": "Python 3 (ipykernel)",
   "language": "python",
   "name": "python3"
  },
  "language_info": {
   "codemirror_mode": {
    "name": "ipython",
    "version": 3
   },
   "file_extension": ".py",
   "mimetype": "text/x-python",
   "name": "python",
   "nbconvert_exporter": "python",
   "pygments_lexer": "ipython3",
   "version": "3.12.7"
  },
  "mystnb": {
   "number_source_lines": true
  }
 },
 "nbformat": 4,
 "nbformat_minor": 5
}
