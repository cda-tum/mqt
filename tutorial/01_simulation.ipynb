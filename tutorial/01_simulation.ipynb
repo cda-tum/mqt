{
 "cells": [
  {
   "cell_type": "markdown",
   "id": "651e021f",
   "metadata": {},
   "source": [
    "# Classical Simulation of Quantum Circuits\n",
    "\n",
    "Performing a quantum computation (commonly described as a quantum circuit) entails evolving an initial quantum state by applying a sequence of operations (also called gates) and measuring the resulting system.\n",
    "Eventually, the goal should obviously be to do that on a real device.\n",
    "However, there are several important reasons for simulating the corresponding computations on a classical machine, particularly in the early stages of the design:\n",
    "As long as no suitable devices are available (e.g., in terms of scale, feasible computation depth, or accuracy), classical simulations of quantum circuits still allow one to explore and test quantum applications, even if only on a limited scale.\n",
    "However, also with further progress in the capabilities of the hardware platforms, classical simulation will remain an essential part of the quantum computing design process, since it additionally allows access to _all_ amplitudes of a resulting quantum state in contrast to a real device that only probabilistically returns measurement results.\n",
    "Moreover, classical simulation provides means to study quantum error correction as well as a baseline to estimate the advantage of quantum computers over classical computers.\n",
    "\n",
    "The classical simulation of quantum circuits is commonly conducted by performing consecutive matrix-vector multiplication, which many simulators realize by storing a dense representation of the complete state vector in memory and evolving it correspondingly or by relying on tensor network methods.\n",
    "This approach quickly becomes intractable due to the exponential growth of the quantum state with respect to the number of qubits---quickly rendering such simulations infeasible even on supercomputer clusters.\n",
    "Simulation methodologies based on decision diagrams are a promising complementary approach that frequently allows reducing the required memory by exploiting redundancies in the simulated quantum state.\n",
    "\n",
    "The _MQT_ offers the classical quantum circuit simulator _DDSIM_ that can be used to perform various quantum circuit simulation tasks based on using decision diagrams as a data structure.\n",
    "This includes strong and weak simulation, approximation techniques, noise-aware simulation, hybrid Schrödinger-Feynman techniques, support for dynamic circuits, the computation of expectation values, the simulation of mixed-dimensional systems, and more."
   ]
  },
  {
   "cell_type": "markdown",
   "id": "bcf88919",
   "metadata": {},
   "source": [
    "Consider the following listing that builds the quantum circuit for generating a three-qubit GHZ state:"
   ]
  },
  {
   "metadata": {},
   "cell_type": "markdown",
   "source": "## Simulating Pauli Gates",
   "id": "9b59f4c740ac179b"
  },
  {
   "metadata": {
    "jupyter": {
     "is_executing": true
    }
   },
   "cell_type": "code",
   "source": [
    "from qiskit import QuantumCircuit\n",
    "\n",
    "circ = QuantumCircuit(1)\n",
    "circ.x(0)\n",
    "circ.draw(output=\"mpl\")"
   ],
   "id": "1288b2ddbc489272",
   "outputs": [],
   "execution_count": null
  },
  {
   "metadata": {
    "ExecuteTime": {
     "end_time": "2024-11-17T01:35:41.795208Z",
     "start_time": "2024-11-17T01:27:10.233864Z"
    }
   },
   "cell_type": "code",
   "source": [
    "from mqt.ddsim import DDSIMProvider\n",
    "\n",
    "provider = DDSIMProvider()\n",
    "backend = provider.get_backend(\"qasm_simulator\")\n",
    "result = backend.run(circ, shots=10000).result()\n",
    "result.get_counts()"
   ],
   "id": "fc298d251a918e20",
   "outputs": [
    {
     "data": {
      "text/plain": [
       "{'1': 10000}"
      ]
     },
     "execution_count": 51,
     "metadata": {},
     "output_type": "execute_result"
    }
   ],
   "execution_count": 51
  },
  {
   "metadata": {},
   "cell_type": "markdown",
   "source": "## Simulating a CNOT gate",
   "id": "9aef75ce51742995"
  },
  {
   "metadata": {
    "ExecuteTime": {
     "end_time": "2024-11-17T01:35:41.796257Z",
     "start_time": "2024-11-17T01:27:10.245591Z"
    }
   },
   "cell_type": "code",
   "source": [
    "circ = QuantumCircuit(2)\n",
    "circ.x(0)\n",
    "circ.cx(0,1)\n",
    "circ.draw(output=\"mpl\")"
   ],
   "id": "4fbe7cf9c74a27d8",
   "outputs": [
    {
     "data": {
      "text/plain": [
       "<Figure size 287.294x200.667 with 1 Axes>"
      ],
      "image/png": "[encoded data removed]"
     },
     "execution_count": 52,
     "metadata": {},
     "output_type": "execute_result"
    }
   ],
   "execution_count": 52
  },
  {
   "metadata": {
    "ExecuteTime": {
     "end_time": "2024-11-17T01:35:41.796670Z",
     "start_time": "2024-11-17T01:27:10.282543Z"
    }
   },
   "cell_type": "code",
   "source": [
    "result = backend.run(circ, shots=10000).result()\n",
    "result.get_counts()"
   ],
   "id": "661a617c27b59b9c",
   "outputs": [
    {
     "data": {
      "text/plain": [
       "{'11': 10000}"
      ]
     },
     "execution_count": 53,
     "metadata": {},
     "output_type": "execute_result"
    }
   ],
   "execution_count": 53
  },
  {
   "metadata": {},
   "cell_type": "markdown",
   "source": "## Simulating a Hadamard Gate and a Bell State",
   "id": "300c3e1dfc10e615"
  },
  {
   "metadata": {
    "ExecuteTime": {
     "end_time": "2024-11-17T01:35:41.797087Z",
     "start_time": "2024-11-17T01:27:10.293840Z"
    }
   },
   "cell_type": "code",
   "source": [
    "circ = QuantumCircuit(2)\n",
    "circ.h(0)\n",
    "circ.draw(output=\"mpl\")"
   ],
   "id": "48a41bee8b98dbde",
   "outputs": [
    {
     "data": {
      "text/plain": [
       "<Figure size 203.683x200.667 with 1 Axes>"
      ],
      "image/png": "[encoded data removed]"
     },
     "execution_count": 54,
     "metadata": {},
     "output_type": "execute_result"
    }
   ],
   "execution_count": 54
  },
  {
   "metadata": {
    "ExecuteTime": {
     "end_time": "2024-11-17T01:35:41.797271Z",
     "start_time": "2024-11-17T01:27:10.324819Z"
    }
   },
   "cell_type": "code",
   "source": [
    "result = backend.run(circ, shots=10000).result()\n",
    "print(result.get_counts())"
   ],
   "id": "683d3ea0feb4b12f",
   "outputs": [
    {
     "name": "stdout",
     "output_type": "stream",
     "text": [
      "{'0': 5025, '1': 4975}\n"
     ]
    }
   ],
   "execution_count": 55
  },
  {
   "metadata": {
    "ExecuteTime": {
     "end_time": "2024-11-17T01:35:41.797378Z",
     "start_time": "2024-11-17T01:27:10.335353Z"
    }
   },
   "cell_type": "code",
   "source": [
    "circ.cx(0,1)\n",
    "circ.draw(output=\"mpl\")"
   ],
   "id": "adcbbaa1bb3706c6",
   "outputs": [
    {
     "data": {
      "text/plain": [
       "<Figure size 287.294x200.667 with 1 Axes>"
      ],
      "image/png": "[encoded data removed]"
     },
     "execution_count": 56,
     "metadata": {},
     "output_type": "execute_result"
    }
   ],
   "execution_count": 56
  },
  {
   "metadata": {
    "ExecuteTime": {
     "end_time": "2024-11-17T01:35:41.797529Z",
     "start_time": "2024-11-17T01:27:10.371355Z"
    }
   },
   "cell_type": "code",
   "source": [
    "result = backend.run(circ, shots=10000).result()\n",
    "print(result.get_counts())"
   ],
   "id": "c5a42b0bf1b4b5e7",
   "outputs": [
    {
     "name": "stdout",
     "output_type": "stream",
     "text": [
      "{'0': 5009, '11': 4991}\n"
     ]
    }
   ],
   "execution_count": 57
  },
  {
   "metadata": {},
   "cell_type": "markdown",
   "source": "## Simulating a GHZ State",
   "id": "600707394906949"
  },
  {
   "cell_type": "code",
   "id": "10bedb56",
   "metadata": {
    "tags": [
     "remove-output"
    ],
    "ExecuteTime": {
     "end_time": "2024-11-17T01:35:41.797891Z",
     "start_time": "2024-11-17T01:27:10.387865Z"
    }
   },
   "source": [
    "circ = QuantumCircuit(3)\n",
    "circ.h(2)\n",
    "circ.cx(2, 1)\n",
    "circ.cx(1, 0)\n",
    "circ.measure_all()\n",
    "circ.draw(output=\"mpl\")"
   ],
   "outputs": [
    {
     "data": {
      "text/plain": [
       "<Figure size 747.609x367.889 with 1 Axes>"
      ],
      "image/png": "[encoded data removed]"
     },
     "execution_count": 58,
     "metadata": {},
     "output_type": "execute_result"
    }
   ],
   "execution_count": 58
  },
  {
   "cell_type": "markdown",
   "id": "5abdec95",
   "metadata": {},
   "source": [
    "The following listing demonstrates how to simulate this circuit using DDSIM as a backend for IBM Qiskit:"
   ]
  },
  {
   "cell_type": "code",
   "id": "c36e6fe1",
   "metadata": {
    "ExecuteTime": {
     "end_time": "2024-11-17T01:35:41.798389Z",
     "start_time": "2024-11-17T01:27:10.457751Z"
    }
   },
   "source": [
    "result = backend.run(circ, shots=10000).result()\n",
    "result.get_counts()"
   ],
   "outputs": [
    {
     "data": {
      "text/plain": [
       "{'000': 4997, '111': 5003}"
      ]
     },
     "execution_count": 59,
     "metadata": {},
     "output_type": "execute_result"
    }
   ],
   "execution_count": 59
  },
  {
   "metadata": {},
   "cell_type": "markdown",
   "source": "# MQT Bench",
   "id": "7f6a30e1ef43463a"
  },
  {
   "metadata": {
    "ExecuteTime": {
     "end_time": "2024-11-17T01:35:41.798518Z",
     "start_time": "2024-11-17T01:27:10.470280Z"
    }
   },
   "cell_type": "code",
   "source": [
    "from mqt.bench import get_benchmark\n",
    "circ = get_benchmark(benchmark_name=\"ghz\", level=\"alg\", circuit_size=3)\n",
    "circ.draw(output=\"mpl\")"
   ],
   "id": "1cafaa6c55dac17",
   "outputs": [
    {
     "data": {
      "text/plain": [
       "<Figure size 747.609x367.889 with 1 Axes>"
      ],
      "image/png": "[encoded data removed]"
     },
     "execution_count": 60,
     "metadata": {},
     "output_type": "execute_result"
    }
   ],
   "execution_count": 60
  },
  {
   "metadata": {},
   "cell_type": "markdown",
   "source": [
    "## Task: Select a 5 qubit Quantum Fourier Transform (QFT) circuit and simulate it using DDSIM.\n",
    "\n",
    "MQT Bench GitHub: https://github.com/cda-tum/mqt-bench\n",
    "\n",
    "Documentation: https://mqt.readthedocs.io/projects/bench/en/latest/Benchmark_selection.html"
   ],
   "id": "f1b436dd1c58cabe"
  },
  {
   "metadata": {
    "ExecuteTime": {
     "end_time": "2024-11-17T01:35:41.798631Z",
     "start_time": "2024-11-17T01:27:10.538776Z"
    }
   },
   "cell_type": "code",
   "source": [
    "from mqt.bench import get_benchmark\n",
    "circ = get_benchmark(benchmark_name=\"qft\", level=\"alg\", circuit_size=5)\n",
    "circ.draw(output=\"mpl\")\n",
    "\n",
    "result = backend.run(circ, shots=10000).result()\n",
    "result.get_counts()"
   ],
   "id": "489bf59419d781a6",
   "outputs": [
    {
     "data": {
      "text/plain": [
       "{'00000': 315,\n",
       " '00001': 281,\n",
       " '00010': 318,\n",
       " '00011': 314,\n",
       " '00100': 303,\n",
       " '00101': 307,\n",
       " '00110': 310,\n",
       " '00111': 333,\n",
       " '01000': 295,\n",
       " '01001': 318,\n",
       " '01010': 298,\n",
       " '01011': 294,\n",
       " '01100': 315,\n",
       " '01101': 306,\n",
       " '01110': 310,\n",
       " '01111': 323,\n",
       " '10000': 305,\n",
       " '10001': 339,\n",
       " '10010': 313,\n",
       " '10011': 346,\n",
       " '10100': 317,\n",
       " '10101': 315,\n",
       " '10110': 325,\n",
       " '10111': 301,\n",
       " '11000': 303,\n",
       " '11001': 327,\n",
       " '11010': 326,\n",
       " '11011': 291,\n",
       " '11100': 300,\n",
       " '11101': 323,\n",
       " '11110': 310,\n",
       " '11111': 319}"
      ]
     },
     "execution_count": 61,
     "metadata": {},
     "output_type": "execute_result"
    }
   ],
   "execution_count": 61
  },
  {
   "metadata": {},
   "cell_type": "markdown",
   "source": "",
   "id": "e2ec99bc8ef2011b"
  }
 ],
 "metadata": {
  "file_format": "mystnb",
  "kernelspec": {
   "display_name": "Python 3 (ipykernel)",
   "name": "python3",
   "language": "python"
  },
  "mystnb": {
   "number_source_lines": true
  }
 },
 "nbformat": 4,
 "nbformat_minor": 5
}
