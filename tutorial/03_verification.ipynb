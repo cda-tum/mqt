{
 "cells": [
  {
   "cell_type": "markdown",
   "id": "851ccb2e",
   "metadata": {},
   "source": [
    "# Verification of Quantum Circuits\n",
    "\n",
    "Compiling quantum algorithms results in different representations of the considered functionality, which significantly differ in their basis operations and structure but are still supposed to be functionally equivalent.\n",
    "As described in the previous section, even individual compilation tasks can be highly complex.\n",
    "Consequently, checking whether the original functionality is indeed maintained throughout all these different abstractions becomes increasingly relevant in order to guarantee a consistent and error-free compilation flow.\n",
    "This is similar to the classical realm, where descriptions at various levels of abstraction also exist.\n",
    "These descriptions are verified using design automation expertise---resulting in efficient methods for verification to ensure the correctness of the design across different levels of abstraction.\n",
    "However, since quantum circuits additionally employ quantum-physical effects such as superposition and entanglement, these methods cannot be used out of the box in the quantum realm.\n",
    "Accordingly, verification of quantum circuits must be approached from a different perspective.\n",
    "At first glance, these characteristics of quantum computing make verification much harder as for classical circuits and systems.\n",
    "In fact, equivalence checking of quantum circuits has been proven to be a computationally hard problem.\n",
    "\n",
    "At the same time, quantum circuits possess certain characteristics that offer remarkable potential for efficient equivalence checking that is not available in classical computing.\n",
    "More precisely, consider two quantum circuits $G=g_1,\\dots,g_m$ and $G'=g'_1,\\dots,g'_n$ whose equivalence shall be checked.\n",
    "Due to the inherent reversibility of quantum operations, the inverse of a quantum circuit can easily be computed by taking the complex conjugate of every gate and reversing the sequence of the gates in the circuit, i.e., $G^{\\prime -1}= (g'_n)^\\dagger,\\dots,(g'_1)^\\dagger$.\n",
    "If two circuits are equivalent, this allows for the conclusion that $G\\cdot G^{\\prime -1} = I$, where $I$ is the identity function.\n",
    "Since the identity has the most compact representation for most data structures representing quantum functionality (e.g., linear with respect to the number of qubits in case of decision diagrams), the equivalence check can be simplified considerably.\n",
    "Even complex circuits can be verified efficiently, if one manages to apply the gates of both circuits in a sequence that keeps the intermediate representation \"close to the identity\".\n",
    "Within the MQT, several methods and strategies were proposed that utilize this characteristic of quantum computations.\n",
    "Eventually, this led to solutions that can verify the results of whole quantum compilation flows (such as IBM's Qiskit) in negligible runtime---something we never even managed for classical circuits and systems.\n",
    "\n",
    "The _MQT_ offers the quantum circuit equivalence checking tool QCEC which encompasses a comprehensive suite of efficient methods and automated tools for the verification of quantum circuits.\n",
    "By this, an important step towards avoiding or substantially mitigating the emerge of a verification gap for quantum circuits is taken, i.e., a situation where the physical development of a technology substantially outperforms our ability to design suitable applications for it or to verify it.\n"
   ]
  },
  {
   "cell_type": "code",
   "id": "a4cea714",
   "metadata": {
    "tags": [
     "remove-cell"
    ]
   },
   "source": [
    "from mqt.bench import get_benchmark\n",
    "\n",
    "from qiskit.transpiler import CouplingMap\n",
    "from qiskit.visualization import plot_gate_map\n",
    "from qiskit.providers.fake_provider import GenericBackendV2\n",
    "\n",
    "num_qubits = 5\n",
    "coupling_map = CouplingMap.from_line(num_qubits=num_qubits)\n",
    "backend = GenericBackendV2(num_qubits=num_qubits, coupling_map=coupling_map, basis_gates=[\"cx\", \"u\"])\n",
    "plot_gate_map(backend)"
   ],
   "outputs": [],
   "execution_count": null
  },
  {
   "metadata": {},
   "cell_type": "markdown",
   "source": "## Show the initial and compiled circuits\n",
   "id": "3de0224a0aae9444"
  },
  {
   "metadata": {},
   "cell_type": "code",
   "source": [
    "circ = get_benchmark(benchmark_name=\"qft\", level=\"indep\", circuit_size=5)\n",
    "circ.draw(output='mpl', fold=-1)"
   ],
   "id": "a895e1b4e828d1c5",
   "outputs": [],
   "execution_count": null
  },
  {
   "metadata": {},
   "cell_type": "code",
   "source": [
    "from qiskit import transpile\n",
    "circ_mapped= transpile(circ, backend=backend)\n",
    "circ_mapped.draw(output='mpl', fold=-1)"
   ],
   "id": "4d445a2d66d4dcd0",
   "outputs": [],
   "execution_count": null
  },
  {
   "metadata": {},
   "cell_type": "markdown",
   "source": "## Show the underlying matrices",
   "id": "49b9e0b02fc39f0c"
  },
  {
   "metadata": {},
   "cell_type": "code",
   "source": [
    "from qiskit.quantum_info import Operator\n",
    "op_initial = Operator.from_circuit(circ.remove_final_measurements(inplace=False))\n",
    "print(op_initial.to_matrix())"
   ],
   "id": "939e99db78b812fd",
   "outputs": [],
   "execution_count": null
  },
  {
   "metadata": {},
   "cell_type": "code",
   "source": [
    "op_mapped = Operator.from_circuit(circ_mapped.remove_final_measurements(inplace=False))\n",
    "print(op_mapped.to_matrix())"
   ],
   "id": "b65a830a7f552d0f",
   "outputs": [],
   "execution_count": null
  },
  {
   "metadata": {},
   "cell_type": "markdown",
   "source": "## Compare using Qiskit",
   "id": "5344acb1d68b0da7"
  },
  {
   "metadata": {},
   "cell_type": "code",
   "source": "op_initial.equiv(op_mapped)",
   "id": "e81ed48cb16ecdde",
   "outputs": [],
   "execution_count": null
  },
  {
   "metadata": {},
   "cell_type": "markdown",
   "source": "## Simplified using MQT QCEC",
   "id": "21271bff82aa6419"
  },
  {
   "cell_type": "code",
   "id": "b8aa9200",
   "metadata": {},
   "source": [
    "from mqt.qcec import verify\n",
    "\n",
    "result = verify(circ, circ_mapped)\n",
    "print(result.considered_equivalent())"
   ],
   "outputs": [],
   "execution_count": null
  },
  {
   "metadata": {},
   "cell_type": "markdown",
   "source": "# Compare Runtimes",
   "id": "5406e34d950e34cc"
  },
  {
   "metadata": {},
   "cell_type": "code",
   "source": [
    "import time\n",
    "from qiskit.transpiler.coupling import CouplingMap\n",
    "\n",
    "times_MQT_QCEC = []\n",
    "times_qiskit = []\n",
    "\n",
    "qubit_range = range(2,12)\n",
    "for i in qubit_range:\n",
    "    print(\"Circuit size: \", i)\n",
    "    circ = get_benchmark(benchmark_name=\"qft\", level=\"alg\", circuit_size=i)\n",
    "    backend = GenericBackendV2(num_qubits=i, coupling_map=CouplingMap.from_line(i), basis_gates=[\"cx\", \"rz\", \"sx\", \"x\"])\n",
    "    circ_mapped = transpile(circ, backend=backend)\n",
    "    \n",
    "    start_time = time.time()\n",
    "    assert verify(circ, circ_mapped).considered_equivalent()\n",
    "    times_MQT_QCEC.append(time.time()-start_time)\n",
    "\n",
    "    start_time = time.time()\n",
    "    op_initial = Operator.from_circuit(circ.remove_final_measurements(inplace=False))\n",
    "    op_mapped = Operator.from_circuit(circ_mapped.remove_final_measurements(inplace=False))\n",
    "    assert op_initial.equiv(op_mapped)\n",
    "    times_qiskit.append(time.time()-start_time)"
   ],
   "id": "3663f4e945e45d6b",
   "outputs": [],
   "execution_count": null
  },
  {
   "metadata": {},
   "cell_type": "code",
   "source": [
    "import matplotlib.pyplot as plt\n",
    "plt.xlabel(\"Verification Time\")\n",
    "plt.ylabel(\"Time in s\")\n",
    "plt.title(\"Verification times for different methods\")\n",
    "plt.plot(qubit_range, times_MQT_QCEC, label=\"MQT QCEC\")\n",
    "plt.plot(qubit_range, times_qiskit, label=\"Qiskit\")\n",
    "plt.legend()\n",
    "plt.show()"
   ],
   "id": "bd6ee5169c24cb7f",
   "outputs": [],
   "execution_count": null
  },
  {
   "metadata": {},
   "cell_type": "code",
   "source": "",
   "id": "5b39bd19a6fa7972",
   "outputs": [],
   "execution_count": null
  }
 ],
 "metadata": {
  "file_format": "mystnb",
  "kernelspec": {
   "display_name": "Python 3 (ipykernel)",
   "name": "python3",
   "language": "python"
  },
  "mystnb": {
   "number_source_lines": true
  }
 },
 "nbformat": 4,
 "nbformat_minor": 5
}
