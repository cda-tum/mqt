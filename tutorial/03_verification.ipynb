{
 "cells": [
  {
   "cell_type": "markdown",
   "id": "851ccb2e",
   "metadata": {},
   "source": [
    "# Verification of Quantum Circuits\n",
    "\n",
    "Compiling quantum algorithms results in different representations of the considered functionality, which significantly differ in their basis operations and structure but are still supposed to be functionally equivalent.\n",
    "As described in the previous section, even individual compilation tasks can be highly complex.\n",
    "Consequently, checking whether the original functionality is indeed maintained throughout all these different abstractions becomes increasingly relevant in order to guarantee a consistent and error-free compilation flow.\n",
    "This is similar to the classical realm, where descriptions at various levels of abstraction also exist.\n",
    "These descriptions are verified using design automation expertise---resulting in efficient methods for verification to ensure the correctness of the design across different levels of abstraction.\n",
    "However, since quantum circuits additionally employ quantum-physical effects such as superposition and entanglement, these methods cannot be used out of the box in the quantum realm.\n",
    "Accordingly, verification of quantum circuits must be approached from a different perspective.\n",
    "At first glance, these characteristics of quantum computing make verification much harder as for classical circuits and systems.\n",
    "In fact, equivalence checking of quantum circuits has been proven to be a computationally hard problem.\n",
    "\n",
    "At the same time, quantum circuits possess certain characteristics that offer remarkable potential for efficient equivalence checking that is not available in classical computing.\n",
    "More precisely, consider two quantum circuits $G=g_1,\\dots,g_m$ and $G'=g'_1,\\dots,g'_n$ whose equivalence shall be checked.\n",
    "Due to the inherent reversibility of quantum operations, the inverse of a quantum circuit can easily be computed by taking the complex conjugate of every gate and reversing the sequence of the gates in the circuit, i.e., $G^{\\prime -1}= (g'_n)^\\dagger,\\dots,(g'_1)^\\dagger$.\n",
    "If two circuits are equivalent, this allows for the conclusion that $G\\cdot G^{\\prime -1} = I$, where $I$ is the identity function.\n",
    "Since the identity has the most compact representation for most data structures representing quantum functionality (e.g., linear with respect to the number of qubits in case of decision diagrams), the equivalence check can be simplified considerably.\n",
    "Even complex circuits can be verified efficiently, if one manages to apply the gates of both circuits in a sequence that keeps the intermediate representation \"close to the identity\".\n",
    "Within the MQT, several methods and strategies were proposed that utilize this characteristic of quantum computations.\n",
    "Eventually, this led to solutions that can verify the results of whole quantum compilation flows (such as IBM's Qiskit) in negligible runtime---something we never even managed for classical circuits and systems.\n",
    "\n",
    "The _MQT_ offers the quantum circuit equivalence checking tool QCEC which encompasses a comprehensive suite of efficient methods and automated tools for the verification of quantum circuits.\n",
    "By this, an important step towards avoiding or substantially mitigating the emerge of a verification gap for quantum circuits is taken, i.e., a situation where the physical development of a technology substantially outperforms our ability to design suitable applications for it or to verify it.\n",
    "\n",
    "Verifying that the quantum circuit from `fig-ghz-circuit-mapped` has been correctly compiled to the architecture from `fig-device`, i.e., whether it still implements the functionality of the circuit shown in `fig-ghz-circuit`, merely requires the following lines of Python:"
   ]
  },
  {
   "cell_type": "code",
   "id": "a4cea714",
   "metadata": {
    "tags": [
     "remove-cell"
    ],
    "ExecuteTime": {
     "end_time": "2024-11-17T00:58:18.623476Z",
     "start_time": "2024-11-17T00:58:18.611967Z"
    }
   },
   "source": [
    "from qiskit import QuantumCircuit\n",
    "from qiskit.providers.fake_provider import Fake5QV1\n",
    "from mqt.qmap import compile\n",
    "\n",
    "circ = QuantumCircuit(3)\n",
    "circ.h(2)\n",
    "circ.cx(2, 1)\n",
    "circ.cx(1, 0)\n",
    "circ.measure_all()\n",
    "\n",
    "backend = Fake5QV1()\n",
    "\n",
    "circ_mapped, _ = compile(circ, backend)"
   ],
   "outputs": [],
   "execution_count": 4
  },
  {
   "cell_type": "code",
   "id": "b8aa9200",
   "metadata": {
    "ExecuteTime": {
     "end_time": "2024-11-17T00:58:18.637166Z",
     "start_time": "2024-11-17T00:58:18.628267Z"
    }
   },
   "source": [
    "from mqt.qcec import verify\n",
    "\n",
    "result = verify(circ, circ_mapped)\n",
    "print(result.equivalence)"
   ],
   "outputs": [
    {
     "name": "stdout",
     "output_type": "stream",
     "text": [
      "equivalent\n"
     ]
    }
   ],
   "execution_count": 5
  }
 ],
 "metadata": {
  "file_format": "mystnb",
  "kernelspec": {
   "display_name": "Python 3 (ipykernel)",
   "name": "python3",
   "language": "python"
  },
  "mystnb": {
   "number_source_lines": true
  }
 },
 "nbformat": 4,
 "nbformat_minor": 5
}
